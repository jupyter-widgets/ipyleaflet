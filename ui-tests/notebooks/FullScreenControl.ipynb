{
 "cells": [
  {
   "cell_type": "code",
   "execution_count": null,
   "id": "a025fcc0-52a0-46cd-b987-9d9f0df48f2d",
   "metadata": {},
   "outputs": [],
   "source": [
    "from ipyleaflet import Map, FullScreenControl\n",
    "\n",
    "center = [48.265643898808236, 336.7529296875]\n",
    "\n",
    "m = Map(center=center, zoom=7)\n",
    "m.add(FullScreenControl())\n",
    "\n",
    "m"
   ]
  }
 ],
 "metadata": {
  "kernelspec": {
   "display_name": "Python 3 (ipykernel)",
   "language": "python",
   "name": "python3"
  },
  "language_info": {
   "codemirror_mode": {
    "name": "ipython",
    "version": 3
   },
   "file_extension": ".py",
   "mimetype": "text/x-python",
   "name": "python",
   "nbconvert_exporter": "python",
   "pygments_lexer": "ipython3",
   "version": "3.10.4"
  },
  "widgets": {
   "application/vnd.jupyter.widget-state+json": {
    "state": {},
    "version_major": 2,
    "version_minor": 0
   }
  }
 },
 "nbformat": 4,
 "nbformat_minor": 5
}
