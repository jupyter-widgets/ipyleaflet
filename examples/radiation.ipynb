{
 "cells": [
  {
   "cell_type": "code",
   "execution_count": 1,
   "id": "43ef0082-9552-44e9-82d3-c1e27209d2c5",
   "metadata": {},
   "outputs": [
    {
     "data": {
      "application/vnd.jupyter.widget-view+json": {
       "model_id": "e6e1117099a34472927b621c0c6b7e70",
       "version_major": 2,
       "version_minor": 0
      },
      "text/plain": [
       "Map(center=[47, 2], controls=(ZoomControl(options=['position', 'zoom_in_text', 'zoom_in_title', 'zoom_out_text…"
      ]
     },
     "metadata": {},
     "output_type": "display_data"
    }
   ],
   "source": [
    "from ipyleaflet import Map, TileLayer, FullScreenControl\n",
    "\n",
    "m = Map(center=(47, 2), zoom=5)\n",
    "\n",
    "radon = TileLayer(url='https://cartoradon.irsn.fr/static/r/{z}/{x}/{y}.png',\n",
    "                  tms=True, opacity=0.5)\n",
    "m.add_layer(radon)\n",
    "\n",
    "fullscreen = FullScreenControl()\n",
    "m.add_control(fullscreen)\n",
    "\n",
    "m"
   ]
  },
  {
   "cell_type": "code",
   "execution_count": null,
   "id": "b6e75898-89cf-44e1-826a-11e7b4e9b427",
   "metadata": {},
   "outputs": [],
   "source": []
  }
 ],
 "metadata": {
  "kernelspec": {
   "display_name": "Python 3 (ipykernel)",
   "language": "python",
   "name": "python3"
  },
  "language_info": {
   "codemirror_mode": {
    "name": "ipython",
    "version": 3
   },
   "file_extension": ".py",
   "mimetype": "text/x-python",
   "name": "python",
   "nbconvert_exporter": "python",
   "pygments_lexer": "ipython3",
   "version": "3.9.7"
  }
 },
 "nbformat": 4,
 "nbformat_minor": 5
}
