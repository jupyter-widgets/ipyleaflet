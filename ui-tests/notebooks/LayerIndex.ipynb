{
 "cells": [
  {
   "cell_type": "code",
   "execution_count": 13,
   "metadata": {},
   "outputs": [
    {
     "data": {
      "application/vnd.jupyter.widget-view+json": {
       "model_id": "01b5fa59850e400c907ab3a552ac4e85",
       "version_major": 2,
       "version_minor": 0
      },
      "text/plain": [
       "Map(center=[52.204793, 360.121558], controls=(ZoomControl(options=['position', 'zoom_in_text', 'zoom_in_title'…"
      ]
     },
     "execution_count": 13,
     "metadata": {},
     "output_type": "execute_result"
    }
   ],
   "source": [
    "from ipyleaflet import Map, Marker, LayersControl\n",
    "\n",
    "\n",
    "m = Map(center=(52.204793, 360.121558), zoom=15)\n",
    "m.add(LayersControl(position='topright', collapsed=False))\n",
    "marker = Marker(location=(52.204793, 360.121558), draggable=False, name=\"One\")\n",
    "marker2 = Marker(location=(52.204793, 360.131728), draggable=False, name=\"Two\")\n",
    "marker3 = Marker(location=(52.204793, 360.111728), draggable=False, name=\"Three\")\n",
    "\n",
    "\n",
    "m.add(marker)\n",
    "m.add(marker2)\n",
    "m.add(marker3, index=1)\n",
    "\n",
    "m"
   ]
  }
 ],
 "metadata": {
  "kernelspec": {
   "display_name": "Python 3 (ipykernel)",
   "language": "python",
   "name": "python3"
  },
  "language_info": {
   "codemirror_mode": {
    "name": "ipython",
    "version": 3
   },
   "file_extension": ".py",
   "mimetype": "text/x-python",
   "name": "python",
   "nbconvert_exporter": "python",
   "pygments_lexer": "ipython3",
   "version": "3.12.0"
  }
 },
 "nbformat": 4,
 "nbformat_minor": 4
}
