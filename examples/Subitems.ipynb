{
 "cells": [
  {
   "cell_type": "code",
   "execution_count": null,
   "metadata": {},
   "outputs": [],
   "source": [
    "from ipyleaflet import Map, Marker, Choropleth, MagnifyingGlass, ColormapControl, AwesomeIcon, basemaps, basemap_to_tiles\n",
    "import json\n",
    "import pandas as pd\n",
    "from ipywidgets import link, FloatSlider\n",
    "from branca.colormap import linear\n",
    "center = (43, -100)\n",
    "zoom = 4"
   ]
  },
  {
   "cell_type": "code",
   "execution_count": null,
   "metadata": {},
   "outputs": [],
   "source": [
    "geo_json_data = json.load(open(\"us-states.json\"))\n",
    "m1 = Map(center=center, zoom=zoom)"
   ]
  },
  {
   "cell_type": "code",
   "execution_count": null,
   "metadata": {},
   "outputs": [],
   "source": [
    "unemployment = pd.read_csv(\"US_Unemployment_Oct2012.csv\")\n",
    "unemployment = dict(\n",
    "    zip(unemployment[\"State\"].tolist(), unemployment[\"Unemployment\"].tolist())\n",
    ")\n",
    "\n",
    "marker1 = Marker(location=(center))\n",
    "\n",
    "layer1 = Choropleth(\n",
    "    geo_data=geo_json_data,\n",
    "    choro_data=unemployment,\n",
    "    colormap=linear.YlOrRd_04,\n",
    "    style={\"fillOpacity\": 0.8, \"dashArray\": \"5, 5\"},\n",
    "    subitems= (marker1,)\n",
    ")"
   ]
  },
  {
   "cell_type": "code",
   "execution_count": null,
   "metadata": {},
   "outputs": [],
   "source": [
    "m1.add(layer1)\n",
    "m1"
   ]
  },
  {
   "cell_type": "code",
   "execution_count": null,
   "metadata": {},
   "outputs": [],
   "source": [
    "m1.remove(layer1)\n",
    "m1"
   ]
  },
  {
   "cell_type": "code",
   "execution_count": null,
   "metadata": {},
   "outputs": [],
   "source": [
    "m1.add(layer1)\n",
    "colormap_control1 = ColormapControl(\n",
    "    caption='Unemployment rate',\n",
    "    colormap=layer1.colormap,\n",
    "    value_min=layer1.value_min,\n",
    "    value_max=layer1.value_max,\n",
    "    position='topright',\n",
    "    transparent_bg=True\n",
    ")"
   ]
  },
  {
   "cell_type": "code",
   "execution_count": null,
   "metadata": {},
   "outputs": [],
   "source": [
    "layer1.subitems = layer1.subitems+(colormap_control1,)\n",
    "m1"
   ]
  },
  {
   "cell_type": "code",
   "execution_count": null,
   "metadata": {},
   "outputs": [],
   "source": [
    "marker2 = Marker(location=(center[0]-4, center[1] - 4))\n",
    "marker3 = Marker(location=(center[0]-8, center[1] - 8))\n",
    "layer2 = basemap_to_tiles(basemaps.Strava.Water, subitems= (marker2,))\n",
    "icon1 = AwesomeIcon(\n",
    "    name='gear',\n",
    "    marker_color='blue',\n",
    "    icon_color='darkblue',\n",
    "    spin=True\n",
    "\n",
    ")\n",
    "marker4 = Marker(icon=icon1, location=(center[0], center[1] - 4))"
   ]
  },
  {
   "cell_type": "code",
   "execution_count": null,
   "metadata": {},
   "outputs": [],
   "source": [
    "layer2.subitems = layer2.subitems+(marker3, marker4)\n",
    "m1.add(layer2)\n",
    "m1"
   ]
  },
  {
   "cell_type": "code",
   "execution_count": null,
   "metadata": {},
   "outputs": [],
   "source": [
    "m1.remove(layer1)\n",
    "m1"
   ]
  },
  {
   "cell_type": "code",
   "execution_count": null,
   "metadata": {},
   "outputs": [],
   "source": [
    "m1.remove(layer2)"
   ]
  }
 ],
 "metadata": {
  "kernelspec": {
   "display_name": "Python 3 (ipykernel)",
   "language": "python",
   "name": "python3"
  },
  "language_info": {
   "codemirror_mode": {
    "name": "ipython",
    "version": 3
   },
   "file_extension": ".py",
   "mimetype": "text/x-python",
   "name": "python",
   "nbconvert_exporter": "python",
   "pygments_lexer": "ipython3",
   "version": "3.9.12"
  }
 },
 "nbformat": 4,
 "nbformat_minor": 4
}
