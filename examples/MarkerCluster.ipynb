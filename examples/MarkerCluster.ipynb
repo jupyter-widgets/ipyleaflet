{
 "cells": [
  {
   "cell_type": "code",
   "execution_count": null,
   "metadata": {},
   "outputs": [],
   "source": [
    "from ipyleaflet import Map, Marker, MarkerCluster\n",
    "import geopandas\n",
    "\n",
    "\n",
    "cities = geopandas.read_file(\"zip://./geopandas_cities.zip\")\n",
    "\n",
    "m = Map(center=(42.5, -41.6), zoom=2)\n",
    "m.add(\n",
    "    MarkerCluster(\n",
    "        markers=[\n",
    "            Marker(location=geolocation.coords[0][::-1])\n",
    "            for geolocation in cities.geometry\n",
    "        ],\n",
    "        disable_clustering_at_zoom=3,\n",
    "        max_cluster_radius=100,\n",
    "    )\n",
    ")\n",
    "m"
   ]
  }
 ],
 "metadata": {
  "kernelspec": {
   "display_name": "Python 3",
   "language": "python",
   "name": "python3"
  },
  "language_info": {
   "codemirror_mode": {
    "name": "ipython",
    "version": 3
   },
   "file_extension": ".py",
   "mimetype": "text/x-python",
   "name": "python",
   "nbconvert_exporter": "python",
   "pygments_lexer": "ipython3",
   "version": "3.9.4"
  }
 },
 "nbformat": 4,
 "nbformat_minor": 4
}
