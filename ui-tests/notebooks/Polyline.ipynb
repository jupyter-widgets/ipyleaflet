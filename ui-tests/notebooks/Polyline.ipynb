{
 "cells": [
  {
   "cell_type": "code",
   "execution_count": null,
   "id": "af738fd1-b0ab-416d-9747-19d97ced6653",
   "metadata": {},
   "outputs": [],
   "source": [
    "from ipyleaflet import Map, Polyline\n",
    "\n",
    "lines = Polyline(\n",
    "    locations=[\n",
    "        [[48.265643898808236, 336.7529296875],\n",
    "         [48.265643898808236, 337.7529296875],\n",
    "         [47.265643898808236, 336.7529296875]],\n",
    "        [[42.265643898808236, 338.7529296875],\n",
    "         [48.265643898808236, 337.7529296875],\n",
    "         [47.265643898808236, 339.7529296875]],\n",
    "    ],\n",
    "    color=\"green\" ,\n",
    "    fill=False\n",
    ")\n",
    "\n",
    "center = [48.265643898808236, 336.7529296875]\n",
    "\n",
    "m = Map(center=center, zoom=7)\n",
    "m.add(lines)\n",
    "m"
   ]
  }
 ],
 "metadata": {
  "kernelspec": {
   "display_name": "Python 3 (ipykernel)",
   "language": "python",
   "name": "python3"
  },
  "language_info": {
   "codemirror_mode": {
    "name": "ipython",
    "version": 3
   },
   "file_extension": ".py",
   "mimetype": "text/x-python",
   "name": "python",
   "nbconvert_exporter": "python",
   "pygments_lexer": "ipython3",
   "version": "3.10.4"
  },
  "widgets": {
   "application/vnd.jupyter.widget-state+json": {
    "state": {},
    "version_major": 2,
    "version_minor": 0
   }
  }
 },
 "nbformat": 4,
 "nbformat_minor": 5
}
