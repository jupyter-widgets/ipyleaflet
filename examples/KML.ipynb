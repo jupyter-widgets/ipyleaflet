{
 "cells": [
  {
   "cell_type": "markdown",
   "metadata": {},
   "source": [
    "You will need to install the below packages:\n",
    "- `ipyleaflet`\n",
    "- `geopandas`"
   ]
  },
  {
   "cell_type": "code",
   "execution_count": null,
   "metadata": {},
   "outputs": [],
   "source": [
    "from ipyleaflet import Map, GeoData\n",
    "import geopandas as gpd"
   ]
  },
  {
   "cell_type": "code",
   "execution_count": null,
   "metadata": {},
   "outputs": [],
   "source": [
    "# Visualize KML data \n",
    "\n",
    "m = Map(center=[41.8781, -87.6298], zoom=4)\n",
    "\n",
    "gpd.io.file.fiona.drvsupport.supported_drivers[\"KML\"] = \"rw\"\n",
    "us_states = gpd.read_file(\"data/us-states.kml\", driver=\"KML\")\n",
    "\n",
    "geo_data = GeoData(\n",
    "    geo_dataframe=us_states,\n",
    "    style={\n",
    "        \"color\": \"black\",\n",
    "        \"fillColor\": \"#3366cc\",\n",
    "        \"opacity\": 0.05,\n",
    "        \"weight\": 1.9,\n",
    "        \"fillOpacity\": 0.6,\n",
    "    },\n",
    "    hover_style={\"fillColor\": \"red\", \"fillOpacity\": 0.2},\n",
    "    name=\"us-states\",\n",
    ")\n",
    "m.add_layer(geo_data)\n",
    "m"
   ]
  }
 ],
 "metadata": {
  "kernelspec": {
   "display_name": "Python 3",
   "language": "python",
   "name": "python3"
  },
  "language_info": {
   "codemirror_mode": {
    "name": "ipython",
    "version": 3
   },
   "file_extension": ".py",
   "mimetype": "text/x-python",
   "name": "python",
   "nbconvert_exporter": "python",
   "pygments_lexer": "ipython3",
   "version": "3.7.6"
  }
 },
 "nbformat": 4,
 "nbformat_minor": 4
}
