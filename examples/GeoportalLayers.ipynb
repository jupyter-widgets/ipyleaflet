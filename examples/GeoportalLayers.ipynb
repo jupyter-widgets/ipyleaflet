{
 "cells": [
  {
   "cell_type": "code",
   "execution_count": null,
   "id": "121b2e3e-faa5-4f53-87c9-9a3112440e98",
   "metadata": {},
   "outputs": [],
   "source": [
    "# Set up for JupyterLite\n",
    "try:\n",
    "    import piplite\n",
    "    await piplite.install('ipyleaflet')\n",
    "except ImportError:\n",
    "    pass"
   ]
  },
  {
   "cell_type": "code",
   "execution_count": 1,
   "id": "68a99b3b-58f1-4251-a724-f5135ac72be1",
   "metadata": {},
   "outputs": [
    {
     "data": {
      "application/vnd.jupyter.widget-view+json": {
       "model_id": "417572db6a764f559a34856fb1306fcc",
       "version_major": 2,
       "version_minor": 0
      },
      "text/plain": [
       "Map(center=[44.799999, 2.26667], controls=(ZoomControl(options=['position', 'zoom_in_text', 'zoom_in_title', '…"
      ]
     },
     "metadata": {},
     "output_type": "display_data"
    }
   ],
   "source": [
    "from ipyleaflet import *\n",
    "from ipyleaflet.geoportal import GeoportalWMTS\n",
    "m1 = Map(center=(44.799999, 2.26667), zoom=10, zoom_control=True)\n",
    "layer1 = GeoportalWMTS() #default\n",
    "m1.add(layer1)"
   ]
  },
  {
   "cell_type": "code",
   "execution_count": 2,
   "id": "9452eaf1-38ff-463f-b272-95baa8f840a5",
   "metadata": {},
   "outputs": [
    {
     "data": {
      "application/vnd.jupyter.widget-view+json": {
       "model_id": "a0f3cb258b4a4769b7fb30cca72df05c",
       "version_major": 2,
       "version_minor": 0
      },
      "text/plain": [
       "Map(center=[44.400002, 3.36667], controls=(ZoomControl(options=['position', 'zoom_in_text', 'zoom_in_title', '…"
      ]
     },
     "metadata": {},
     "output_type": "display_data"
    }
   ],
   "source": [
    "m2 = Map(center=(44.400002, 3.36667), zoom=10, zoom_control=True)\n",
    "layer2 = GeoportalWMTS(layer = 'ELEVATION.SLOPES', api_key = 'altimetrie')\n",
    "m2.add(layer2)"
   ]
  },
  {
   "cell_type": "code",
   "execution_count": 3,
   "id": "69d5a707-f501-4d5c-a22e-3e59e2656aaf",
   "metadata": {},
   "outputs": [
    {
     "data": {
      "application/vnd.jupyter.widget-view+json": {
       "model_id": "bdc4d761ead245b3842ff2be4f5a600a",
       "version_major": 2,
       "version_minor": 0
      },
      "text/plain": [
       "Map(center=[44.799999, 2.26667], controls=(ZoomControl(options=['position', 'zoom_in_text', 'zoom_in_title', '…"
      ]
     },
     "metadata": {},
     "output_type": "display_data"
    }
   ],
   "source": [
    "m3 = Map(center=(44.799999, 2.26667), zoom=10, zoom_control=True)\n",
    "layer3 = GeoportalWMTS(layer = 'GEOGRAPHICALGRIDSYSTEMS.PLANIGNV2', api_key = 'cartes', format = 'image/png')\n",
    "m3.add(layer3)"
   ]
  },
  {
   "cell_type": "code",
   "execution_count": 4,
   "id": "2936c8dc-1546-4f13-8c18-6984aaf1c0e3",
   "metadata": {},
   "outputs": [
    {
     "data": {
      "application/vnd.jupyter.widget-view+json": {
       "model_id": "902bb6b777a14cae8d2e377e514ed5e8",
       "version_major": 2,
       "version_minor": 0
      },
      "text/plain": [
       "Map(center=[44.400002, 3.36667], controls=(ZoomControl(options=['position', 'zoom_in_text', 'zoom_in_title', '…"
      ]
     },
     "metadata": {},
     "output_type": "display_data"
    }
   ],
   "source": [
    "m4 = Map(center=(44.400002, 3.36667), zoom=10, zoom_control=True)\n",
    "layer4 = GeoportalWMTS(layer = 'HYDROGRAPHY.BCAE.LATEST', api_key = 'agriculture', format = 'image/png')\n",
    "m4.add(layer4)"
   ]
  },
  {
   "cell_type": "code",
   "execution_count": null,
   "id": "ee4e38eb-0ac7-47d4-bc7d-be74a7e761c7",
   "metadata": {},
   "outputs": [],
   "source": []
  }
 ],
 "metadata": {
  "kernelspec": {
   "display_name": "Python 3 (ipykernel)",
   "language": "python",
   "name": "python3"
  },
  "language_info": {
   "codemirror_mode": {
    "name": "ipython",
    "version": 3
   },
   "file_extension": ".py",
   "mimetype": "text/x-python",
   "name": "python",
   "nbconvert_exporter": "python",
   "pygments_lexer": "ipython3",
   "version": "3.10.5"
  }
 },
 "nbformat": 4,
 "nbformat_minor": 5
}
