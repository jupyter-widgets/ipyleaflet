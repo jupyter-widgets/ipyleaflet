{
 "cells": [
  {
   "cell_type": "markdown",
   "metadata": {},
   "source": [
    "You will need to install the following packages:\n",
    "- `ipyleaflet`\n",
    "- `requests`\n",
    "- `xarray`\n",
    "- `netcdf4`"
   ]
  },
  {
   "cell_type": "code",
   "execution_count": null,
   "metadata": {},
   "outputs": [],
   "source": [
    "from ipyleaflet import Map, TileLayer, basemaps\n",
    "from ipyleaflet.velocity import Velocity\n",
    "import xarray as xr\n",
    "import os\n",
    "import math"
   ]
  },
  {
   "cell_type": "code",
   "execution_count": null,
   "metadata": {},
   "outputs": [],
   "source": [
    "center = [44.33956524809713, -130.60546875000003]\n",
    "zoom = 3\n",
    "m = Map(\n",
    "    center=center,\n",
    "    zoom=zoom,\n",
    "    interpolation=\"nearest\",\n",
    "    basemap=basemaps.CartoDB.DarkMatter,\n",
    ")\n",
    "\n",
    "if not os.path.exists(\"wind-global.nc\"):\n",
    "    url = \"https://github.com/benbovy/xvelmap/raw/master/notebooks/wind-global.nc\"\n",
    "    import requests\n",
    "\n",
    "    r = requests.get(url)\n",
    "    wind_data = r.content\n",
    "    with open(\"wind-global.nc\", \"wb\") as f:\n",
    "        f.write(wind_data)\n",
    "ds = xr.open_dataset(\"wind-global.nc\")\n",
    "print (type(ds))\n",
    "ds"
   ]
  },
  {
   "cell_type": "code",
   "execution_count": null,
   "metadata": {},
   "outputs": [],
   "source": [
    "v_norm_list = []\n",
    "for i in range(len(ds.lat)):\n",
    "    for j in range (len(ds.lon)):\n",
    "        v_norm_list.append(math.sqrt(ds.v_wind[i][j]*ds.v_wind[i][j]+ds.u_wind[i][j]*ds.u_wind[i][j]))\n",
    "max_velocity = round(max(v_norm_list),1)\n",
    "min_velocity = round(min(v_norm_list),1)"
   ]
  },
  {
   "cell_type": "code",
   "execution_count": null,
   "metadata": {},
   "outputs": [],
   "source": [
    "print ('min is:', min_velocity)\n",
    "print ('max is:', max_velocity)"
   ]
  },
  {
   "cell_type": "code",
   "execution_count": null,
   "metadata": {},
   "outputs": [],
   "source": [
    "from branca.colormap import linear\n",
    "\n",
    "mycolormap = linear.viridis\n",
    "\n",
    "def convert_to_velocity_color_list(colormap):\n",
    "    color_scale = []\n",
    "    \n",
    "    for i in range(len(colormap.colors)):\n",
    "        rgb_tuple = tuple(str(int(x * 256)) for x in colormap.colors[i][:3])\n",
    "        rgb_tuple_str = \" , \".join(rgb_tuple)\n",
    "        #print(rgb_tuple_str)\n",
    "        rgb_str = 'rgb('+ rgb_tuple_str + ')'\n",
    "        print(rgb_str)\n",
    "        color_scale.append(rgb_str)\n",
    "\n",
    "    return color_scale\n",
    "\n",
    "mycolor_scale = convert_to_velocity_color_list(mycolormap)"
   ]
  },
  {
   "cell_type": "code",
   "execution_count": null,
   "metadata": {},
   "outputs": [],
   "source": [
    "import ipyleaflet\n",
    "from ipyleaflet import Map, ColormapControl, WidgetControl\n",
    "\n",
    "display_options = {\n",
    "    \"velocityType\": \"Global Wind\",\n",
    "    \"displayPosition\": \"bottomleft\",\n",
    "    \"displayEmptyString\": \"No wind data\",\n",
    "}\n",
    "wind = Velocity(\n",
    "    data=ds,\n",
    "    zonal_speed=\"u_wind\",\n",
    "    meridional_speed=\"v_wind\",\n",
    "    latitude_dimension=\"lat\",\n",
    "    longitude_dimension=\"lon\",\n",
    "    velocity_scale=0.01,\n",
    "    min_velocity=min_velocity,\n",
    "    max_velocity=max_velocity,\n",
    "    color_scale = mycolor_scale,\n",
    "    display_options=display_options,\n",
    ")\n",
    "\n",
    "m.add_layer(wind)"
   ]
  },
  {
   "cell_type": "code",
   "execution_count": null,
   "metadata": {},
   "outputs": [],
   "source": [
    "myColormapControl = ColormapControl(\n",
    "    caption=\"wind velocity\",\n",
    "    colormap_choice=mycolormap,\n",
    "    value_min=wind.min_velocity,\n",
    "    value_max=wind.max_velocity,\n",
    "    position='topright',\n",
    "    transparent_bg=False\n",
    ")\n",
    "m.add_control(myColormapControl)\n",
    "m"
   ]
  }
 ],
 "metadata": {
  "kernelspec": {
   "display_name": "Python 3 (ipykernel)",
   "language": "python",
   "name": "python3"
  },
  "language_info": {
   "codemirror_mode": {
    "name": "ipython",
    "version": 3
   },
   "file_extension": ".py",
   "mimetype": "text/x-python",
   "name": "python",
   "nbconvert_exporter": "python",
   "pygments_lexer": "ipython3",
   "version": "3.9.12"
  }
 },
 "nbformat": 4,
 "nbformat_minor": 4
}
