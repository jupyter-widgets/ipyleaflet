{
 "cells": [
  {
   "cell_type": "code",
   "execution_count": null,
   "metadata": {},
   "outputs": [],
   "source": [
    "from ipyleaflet import Map, WKT"
   ]
  },
  {
   "cell_type": "code",
   "execution_count": null,
   "metadata": {},
   "outputs": [],
   "source": [
    "m = Map(center=(25, -80), zoom=4)\n",
    "\n",
    "wlayer = WKT(\n",
    "    wkt_string=\"POLYGON ((-80 25, -65 18, -64 32, -80 25))\",\n",
    "    style={\"color\": \"green\", \"opacity\": 1, \"weight\": 1.9, \"fillOpacity\": 0.1},\n",
    ")\n",
    "m.add_layer(wlayer)\n",
    "m"
   ]
  },
  {
   "cell_type": "code",
   "execution_count": null,
   "metadata": {},
   "outputs": [],
   "source": [
    "m = Map(center=(7, 4), zoom=4)\n",
    "\n",
    "wlayer2 = WKT(\n",
    "    url=\"geometries.wkt\",\n",
    "    style={\"color\": \"red\", \"opacity\": 1, \"weight\": 1.9, \"fillOpacity\": 0.1},\n",
    ")\n",
    "m.add_layer(wlayer2)\n",
    "m"
   ]
  }
 ],
 "metadata": {
  "kernelspec": {
   "display_name": "Python 3",
   "language": "python",
   "name": "python3"
  },
  "language_info": {
   "codemirror_mode": {
    "name": "ipython",
    "version": 3
   },
   "file_extension": ".py",
   "mimetype": "text/x-python",
   "name": "python",
   "nbconvert_exporter": "python",
   "pygments_lexer": "ipython3",
   "version": "3.7.6"
  }
 },
 "nbformat": 4,
 "nbformat_minor": 4
}
