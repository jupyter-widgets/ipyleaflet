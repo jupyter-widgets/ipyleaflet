{
 "cells": [
  {
   "cell_type": "markdown",
   "metadata": {},
   "source": [
    "# Side-by-Side\n",
    "\n",
    "This example shows how to use the [Leaflet side-by-side](https://github.com/digidem/leaflet-side-by-side) slider with ipyleaflet."
   ]
  },
  {
   "cell_type": "code",
   "execution_count": 4,
   "metadata": {},
   "outputs": [],
   "source": [
    "from ipyleaflet import (\n",
    "    Map, TileLayer, SideBySideControl, basemaps, basemap_to_tiles\n",
    ")"
   ]
  },
  {
   "cell_type": "code",
   "execution_count": 2,
   "metadata": {},
   "outputs": [],
   "source": [
    "center = [44.38669150215206, 9.041748046875002]\n",
    "zoom = 6"
   ]
  },
  {
   "cell_type": "code",
   "execution_count": 6,
   "metadata": {},
   "outputs": [
    {
     "data": {
      "application/vnd.jupyter.widget-view+json": {
       "model_id": "d0c172ac51f84a6f8e8a3fa3b160b867",
       "version_major": 2,
       "version_minor": 0
      },
      "text/html": [
       "<p>Failed to display Jupyter Widget of type <code>Map</code>.</p>\n",
       "<p>\n",
       "  If you're reading this message in the Jupyter Notebook or JupyterLab Notebook, it may mean\n",
       "  that the widgets JavaScript is still loading. If this message persists, it\n",
       "  likely means that the widgets JavaScript library is either not installed or\n",
       "  not enabled. See the <a href=\"https://ipywidgets.readthedocs.io/en/stable/user_install.html\">Jupyter\n",
       "  Widgets Documentation</a> for setup instructions.\n",
       "</p>\n",
       "<p>\n",
       "  If you're reading this message in another frontend (for example, a static\n",
       "  rendering on GitHub or <a href=\"https://nbviewer.jupyter.org/\">NBViewer</a>),\n",
       "  it may mean that your frontend doesn't currently support widgets.\n",
       "</p>\n"
      ],
      "text/plain": [
       "Map(basemap={'url': 'http://c.basemaps.cartocdn.com/dark_all/{z}/{x}/{y}.png', 'max_zoom': 19, 'attribution': '&copy; <a href=\"http://www.openstreetmap.org/copyright\">OpenStreetMap</a> &copy; <a href=\"http://cartodb.com/attributions\">CartoDB</a>', 'name': 'CartoDB.DarkMatter'}, center=[44.38669150215206, 9.041748046875002], controls=(SplitMapControl(leftLayer=TileLayer(attribution='href=\"https://labs.strava.com/heatmap\">Strava 2017</a>', max_zoom=15, min_zoom=1, name='Strava.Winter', options=['attribution', 'detect_retina', 'max_zoom', 'min_zoom', 'tile_size'], url='https://heatmap-external-a.strava.com//tiles/winter/hot/{z}/{x}/{y}.png?v=19'), rightLayer=TileLayer(attribution='href=\"https://labs.strava.com/heatmap\">Strava 2017</a>', max_zoom=15, min_zoom=1, name='Strava.Run', options=['attribution', 'detect_retina', 'max_zoom', 'min_zoom', 'tile_size'], url='https://heatmap-external-a.strava.com//tiles/run/bluered/{z}/{x}/{y}.png?v=19')),), layers=(TileLayer(attribution='&copy; <a href=\"http://www.openstreetmap.org/copyright\">OpenStreetMap</a> &copy; <a href=\"http://cartodb.com/attributions\">CartoDB</a>', base=True, max_zoom=19, min_zoom=1, name='CartoDB.DarkMatter', options=['attribution', 'detect_retina', 'max_zoom', 'min_zoom', 'tile_size'], url='http://c.basemaps.cartocdn.com/dark_all/{z}/{x}/{y}.png'),), options=['attribution_control', 'basemap', 'bounce_at_zoom_limits', 'box_zoom', 'center', 'close_popup_on_click', 'double_click_zoom', 'dragging', 'inertia', 'inertia_deceleration', 'inertia_max_speed', 'keyboard', 'keyboard_pan_offset', 'keyboard_zoom_offset', 'max_zoom', 'min_zoom', 'scroll_wheel_zoom', 'tap', 'tap_tolerance', 'touch_zoom', 'world_copy_jump', 'zoom', 'zoom_animation_threshold', 'zoom_control', 'zoom_start'], zoom=6)"
      ]
     },
     "metadata": {},
     "output_type": "display_data"
    }
   ],
   "source": [
    "m = Map(center=center, zoom=zoom, basemap=basemaps.CartoDB.DarkMatter)\n",
    "control = SplitMapControl(leftLayer=basemap_to_tiles(basemaps.Strava.Winter),\n",
    "                            rightLayer=basemap_to_tiles(basemaps.Strava.Run))\n",
    "m.add_control(control)\n",
    "m"
   ]
  },
  {
   "cell_type": "code",
   "execution_count": 7,
   "metadata": {},
   "outputs": [
    {
     "data": {
      "text/plain": [
       "6"
      ]
     },
     "execution_count": 7,
     "metadata": {},
     "output_type": "execute_result"
    }
   ],
   "source": [
    "m.zoom"
   ]
  },
  {
   "cell_type": "code",
   "execution_count": null,
   "metadata": {},
   "outputs": [],
   "source": []
  }
 ],
 "metadata": {
  "kernelspec": {
   "display_name": "Python 3",
   "language": "python",
   "name": "python3"
  },
  "language_info": {
   "codemirror_mode": {
    "name": "ipython",
    "version": 3
   },
   "file_extension": ".py",
   "mimetype": "text/x-python",
   "name": "python",
   "nbconvert_exporter": "python",
   "pygments_lexer": "ipython3",
   "version": "3.6.3"
  }
 },
 "nbformat": 4,
 "nbformat_minor": 2
}
