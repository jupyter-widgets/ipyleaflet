{
 "cells": [
  {
   "cell_type": "code",
   "execution_count": null,
   "id": "98958552-db61-4b15-9025-8483234118b3",
   "metadata": {},
   "outputs": [],
   "source": [
    "# Set up for JupyterLite\n",
    "try:\n",
    "    import piplite\n",
    "    await piplite.install('ipyleaflet')\n",
    "except ImportError:\n",
    "    pass"
   ]
  },
  {
   "cell_type": "code",
   "execution_count": null,
   "id": "974bc9b2-4a25-455b-8c4d-ca565e21f146",
   "metadata": {},
   "outputs": [],
   "source": [
    "import ipyleaflet\n",
    "from random import uniform\n",
    "import time\n",
    "from branca.colormap import linear, LinearColormap"
   ]
  },
  {
   "cell_type": "code",
   "execution_count": null,
   "id": "fa27e0da-7047-4f06-93e8-3fb230e554d4",
   "metadata": {},
   "outputs": [],
   "source": [
    "def create_random_data(length):\n",
    "    \"Return a list of some random lat/lon/value triples.\"\n",
    "    return [\n",
    "        [uniform(-80, 80), uniform(-180, 180), uniform(0, 1000)] for i in range(length)\n",
    "    ]"
   ]
  },
  {
   "cell_type": "code",
   "execution_count": null,
   "id": "cd1fc9dd-addf-4085-95ff-b8d4b983491f",
   "metadata": {},
   "outputs": [],
   "source": [
    "m = ipyleaflet.Map(center=[0, 0], zoom=2)\n",
    "heat = ipyleaflet.Heatmap(locations=create_random_data(1000), radius=20, blur=10, gradient={1.0: 'black', 0.2 : 'red', 0.1 : 'orange'})\n",
    "colormap_control = ipyleaflet.ColormapControl(\n",
    "        caption='Intensity',\n",
    "        colormap=heat.colormap,\n",
    "        value_min=heat.vmin,\n",
    "        value_max=heat.vmax,\n",
    "        position='topright',\n",
    "        transparent_bg=True,\n",
    "    )\n",
    "m.add(heat)\n",
    "m.add(colormap_control)"
   ]
  }
 ],
 "metadata": {
  "kernelspec": {
   "display_name": "Python 3 (ipykernel)",
   "language": "python",
   "name": "python3"
  },
  "language_info": {
   "codemirror_mode": {
    "name": "ipython",
    "version": 3
   },
   "file_extension": ".py",
   "mimetype": "text/x-python",
   "name": "python",
   "nbconvert_exporter": "python",
   "pygments_lexer": "ipython3",
   "version": "3.9.13"
  }
 },
 "nbformat": 4,
 "nbformat_minor": 5
}
