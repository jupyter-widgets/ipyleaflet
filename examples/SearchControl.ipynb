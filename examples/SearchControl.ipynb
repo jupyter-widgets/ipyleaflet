{
 "cells": [
  {
   "cell_type": "code",
   "execution_count": null,
   "metadata": {},
   "outputs": [],
   "source": [
    "import os\n",
    "import json\n",
    "\n",
    "from ipyleaflet import Map, SearchControl, Marker, AwesomeIcon, GeoJSON, LayerGroup\n",
    "center = [19.1646, 72.8493]\n",
    "m = Map(center=center, zoom=3)"
   ]
  },
  {
   "cell_type": "code",
   "execution_count": null,
   "metadata": {},
   "outputs": [],
   "source": [
    "marker = Marker(icon=AwesomeIcon(name=\"check\", marker_color='green', icon_color='darkgreen'))"
   ]
  },
  {
   "cell_type": "code",
   "execution_count": null,
   "metadata": {},
   "outputs": [],
   "source": [
    "# Search using url.\n",
    "\n",
    "search = SearchControl(position=\"topleft\", \n",
    "                       url='https://nominatim.openstreetmap.org/search?format=json&q={s}', \n",
    "                       zoom=5,\n",
    "                       property_name='display_name',\n",
    "                       marker=marker\n",
    "                      )\n",
    "m.add_control(search)\n",
    "m"
   ]
  },
  {
   "cell_type": "code",
   "execution_count": null,
   "metadata": {},
   "outputs": [],
   "source": [
    "marker.icon = AwesomeIcon(name=\"check\", marker_color='red', icon_color='darkred')"
   ]
  },
  {
   "cell_type": "code",
   "execution_count": null,
   "metadata": {},
   "outputs": [],
   "source": [
    "# Search in a GeoJSON layer\n",
    "\n",
    "with open(\"countries.geo.json\") as f:\n",
    "    data = json.load(f)\n",
    "\n",
    "countries = GeoJSON(data=data)\n",
    "\n",
    "m = Map(center=(19.1646, 72.8493), zoom=3)\n",
    "\n",
    "search = SearchControl(\n",
    "    position=\"topleft\",\n",
    "    layer=LayerGroup(layers=(countries,)),\n",
    "    zoom=4,\n",
    "    property_name=\"name\",\n",
    "    marker=marker,\n",
    "    found_style={\n",
    "        \"opacity\": 1,\n",
    "        \"dashArray\": \"9\",\n",
    "        \"fillOpacity\": 0.1,\n",
    "        \"weight\": 1,\n",
    "        \"fillColor\": \"#FF0000\",\n",
    "        \"color\": \"#FF6347\",\n",
    "    },\n",
    ")\n",
    "m.add_control(search)\n",
    "m"
   ]
  },
  {
   "cell_type": "code",
   "execution_count": null,
   "metadata": {},
   "outputs": [],
   "source": [
    "# Search in a GeoJSON layer with callbacks for searched feature.\n",
    "\n",
    "with open(\"europe_110.geo.json\") as f:\n",
    "    data = json.load(f)\n",
    "\n",
    "europe = GeoJSON(data=data)\n",
    "\n",
    "m = Map(center=[61.9389, 69.7851], zoom=2)\n",
    "\n",
    "search = SearchControl(\n",
    "    position=\"topleft\",\n",
    "    layer=LayerGroup(layers=(europe,)),\n",
    "    property_name=\"name\",\n",
    ")\n",
    "m.add_control(search)\n",
    "m"
   ]
  },
  {
   "cell_type": "code",
   "execution_count": null,
   "metadata": {},
   "outputs": [],
   "source": [
    "from ipywidgets import HTML\n",
    "from ipyleaflet import Popup\n",
    "from shapely.geometry import shape\n",
    "\n",
    "\n",
    "def add_popup(feature, **kwargs):\n",
    "    for layer in m.layers:\n",
    "        if isinstance(layer, Popup):\n",
    "            m.remove_layer(layer)\n",
    "    p = shape(feature[\"geometry\"])\n",
    "    center = p.centroid.y, p.centroid.x\n",
    "    properties = feature[\"properties\"]\n",
    "    message = HTML()\n",
    "    message.value = f\"\"\"<h4>EU population density</h4><h4>\n",
    "                        <b>{properties[\"name\"]}</b>\n",
    "                        </h4>{properties[\"pop_est\"]} people / mi^2\n",
    "                     \"\"\"\n",
    "    popup = Popup(\n",
    "        location=center,\n",
    "        child=message,\n",
    "        close_button=True,\n",
    "        auto_close=False,\n",
    "        close_on_escape_key=False,\n",
    "    )\n",
    "\n",
    "    m.add_layer(popup)\n",
    "\n",
    "search.on_feature_found(add_popup)"
   ]
  }
 ],
 "metadata": {
  "kernelspec": {
   "display_name": "Python 3",
   "language": "python",
   "name": "python3"
  },
  "language_info": {
   "codemirror_mode": {
    "name": "ipython",
    "version": 3
   },
   "file_extension": ".py",
   "mimetype": "text/x-python",
   "name": "python",
   "nbconvert_exporter": "python",
   "pygments_lexer": "ipython3",
   "version": "3.7.6"
  }
 },
 "nbformat": 4,
 "nbformat_minor": 4
}
