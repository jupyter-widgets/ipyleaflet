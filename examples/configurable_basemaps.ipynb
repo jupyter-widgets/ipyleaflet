{
 "cells": [
  {
   "cell_type": "markdown",
   "metadata": {},
   "source": [
    "# Configurable Basemaps\n",
    "\n",
    "This notebook illustrates how to use configurable basemaps served by external parties via some RESTful API that might also require credentials like an API key. All basemaps in this notebook are provided by [HERE.com](https://here.com). This code depends on `ipyleaflet>0.12.1`.\n",
    "\n",
    "Free API keys for HERE location services are available with a [Freemium](https://developer.here.com) plan (no credit card needed), so there is no need to copy the key provided here except for running single examples as a proof of concept, especially as it can be revoked again anytime."
   ]
  },
  {
   "cell_type": "code",
   "execution_count": 1,
   "metadata": {},
   "outputs": [],
   "source": [
    "import os\n",
    "from ipyleaflet import Map, LayersControl\n",
    "from ipyleaflet.external.here import basemaps, basemap_to_tiles"
   ]
  },
  {
   "cell_type": "markdown",
   "metadata": {},
   "source": [
    "Most simple usecase, with `HEREMAPS_APIKEY` (or legacy `HEREMAPS_APP_CODE`/`HEREMAPS_APP_ID`) read by `basemap_to_tiles` from environment variables. This is exapected to fail (show no map) when running this code as-is on some target system without these variables:"
   ]
  },
  {
   "cell_type": "code",
   "execution_count": 2,
   "metadata": {},
   "outputs": [
    {
     "data": {
      "application/vnd.jupyter.widget-view+json": {
       "model_id": "f16d15bf5f5f44baa95b648e7cc15a77",
       "version_major": 2,
       "version_minor": 0
      },
      "text/plain": [
       "Map(center=[52.51, 13.4], controls=(ZoomControl(options=['position', 'zoom_in_text', 'zoom_in_title', 'zoom_ou…"
      ]
     },
     "metadata": {},
     "output_type": "display_data"
    }
   ],
   "source": [
    "berlin = [52.51, 13.4]\n",
    "bm = basemap_to_tiles(basemaps.TrafficDay)\n",
    "Map(center=berlin, zoom=11, basemap=bm)"
   ]
  },
  {
   "cell_type": "markdown",
   "metadata": {},
   "source": [
    "Now the same map using a hardwired sample API key (see comment above about reusing it):"
   ]
  },
  {
   "cell_type": "code",
   "execution_count": 3,
   "metadata": {},
   "outputs": [
    {
     "data": {
      "application/vnd.jupyter.widget-view+json": {
       "model_id": "e7c65da72d6e46c88361732bd5c1ed1a",
       "version_major": 2,
       "version_minor": 0
      },
      "text/plain": [
       "Map(center=[52.51, 13.4], controls=(ZoomControl(options=['position', 'zoom_in_text', 'zoom_in_title', 'zoom_ou…"
      ]
     },
     "metadata": {},
     "output_type": "display_data"
    }
   ],
   "source": [
    "apikey = os.getenv(\"HEREMAPS_APIKEY\", \"_0U2n1ksjnwlngokt7iDFLstEMjV4nPNdDpAqVEhOlw\")\n",
    "config = {\"apikey\": apikey}\n",
    "basemap = basemap_to_tiles(basemaps.TrafficDay, config=config)\n",
    "Map(center=berlin, zoom=11, basemap=basemap)"
   ]
  },
  {
   "cell_type": "markdown",
   "metadata": {},
   "source": [
    "For the following map one more config. parameter was set, namely the language parameter `lg` with the value `ita` for Italian. Many more parameters are specified in the [official documentation](https://developer.here.com/documentation/map-tile/dev_guide/topics/introduction.html):"
   ]
  },
  {
   "cell_type": "code",
   "execution_count": 4,
   "metadata": {},
   "outputs": [
    {
     "data": {
      "application/vnd.jupyter.widget-view+json": {
       "model_id": "e0e8c208e7bc4a629af099345768f50d",
       "version_major": 2,
       "version_minor": 0
      },
      "text/plain": [
       "Map(center=[52.51, 13.4], controls=(ZoomControl(options=['position', 'zoom_in_text', 'zoom_in_title', 'zoom_ou…"
      ]
     },
     "metadata": {},
     "output_type": "display_data"
    }
   ],
   "source": [
    "config = {\"apikey\": apikey, \"lg\": \"ita\"}\n",
    "basemap = basemap_to_tiles(basemaps.TransitDay, config=config)\n",
    "Map(center=berlin, zoom=11, basemap=basemap)"
   ]
  },
  {
   "cell_type": "markdown",
   "metadata": {},
   "source": [
    "The following adds multiple basemaps as a list of layers to the map, now using the `layers` argument. Two of them are configured a little beyond the preset options. Use the top right layer control widget to select between them:   "
   ]
  },
  {
   "cell_type": "code",
   "execution_count": 5,
   "metadata": {},
   "outputs": [
    {
     "data": {
      "application/vnd.jupyter.widget-view+json": {
       "model_id": "ae4f9d17b3f24aa2ab2f197ca8f624f8",
       "version_major": 2,
       "version_minor": 0
      },
      "text/plain": [
       "Map(center=[52.51, 13.4], controls=(ZoomControl(options=['position', 'zoom_in_text', 'zoom_in_title', 'zoom_ou…"
      ]
     },
     "metadata": {},
     "output_type": "display_data"
    }
   ],
   "source": [
    "bm1 = basemap_to_tiles(basemaps.TransitDay, config=config)\n",
    "bm2 = basemap_to_tiles(basemaps.Satellite, config={\"apikey\": apikey, \"scheme\": \"hybrid.day\"})\n",
    "bm3 = basemap_to_tiles(basemaps.Default, config={\"apikey\": apikey, \"tiletype\": \"trucktile\"})\n",
    "m = Map(center=berlin, zoom=11, layers=[bm1, bm2, bm3])\n",
    "m += LayersControl(position=\"topright\")\n",
    "m"
   ]
  }
 ],
 "metadata": {
  "kernelspec": {
   "display_name": "Python 3",
   "language": "python",
   "name": "python3"
  },
  "language_info": {
   "codemirror_mode": {
    "name": "ipython",
    "version": 3
   },
   "file_extension": ".py",
   "mimetype": "text/x-python",
   "name": "python",
   "nbconvert_exporter": "python",
   "pygments_lexer": "ipython3",
   "version": "3.7.3"
  }
 },
 "nbformat": 4,
 "nbformat_minor": 4
}
