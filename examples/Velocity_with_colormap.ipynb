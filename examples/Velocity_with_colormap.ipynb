{
 "cells": [
  {
   "cell_type": "markdown",
   "metadata": {},
   "source": [
    "You will need to install the following packages:\n",
    "- `ipyleaflet`\n",
    "- `requests`\n",
    "- `xarray`\n",
    "- `netcdf4`"
   ]
  },
  {
   "cell_type": "code",
   "execution_count": null,
   "metadata": {},
   "outputs": [],
   "source": [
    "# Set up for JupyterLite\n",
    "try:\n",
    "    import piplite\n",
    "    await piplite.install('ipyleaflet')\n",
    "except ImportError:\n",
    "    pass"
   ]
  },
  {
   "cell_type": "code",
   "execution_count": null,
   "metadata": {},
   "outputs": [],
   "source": [
    "import ipyleaflet\n",
    "from ipyleaflet.velocity import Velocity\n",
    "import xarray as xr\n",
    "from branca.colormap import linear"
   ]
  },
  {
   "cell_type": "code",
   "execution_count": null,
   "metadata": {},
   "outputs": [],
   "source": [
    "center = [44.33956524809713, -130.60546875000003]\n",
    "zoom = 3\n",
    "m = ipyleaflet.Map(\n",
    "    center=center,\n",
    "    zoom=zoom,\n",
    "    interpolation=\"nearest\",\n",
    "    basemap=ipyleaflet.basemaps.CartoDB.DarkMatter,\n",
    ")"
   ]
  },
  {
   "cell_type": "code",
   "execution_count": null,
   "metadata": {},
   "outputs": [],
   "source": [
    "import os\n",
    "\n",
    "if not os.path.exists(\"wind-global.nc\"):\n",
    "    url = \"https://github.com/benbovy/xvelmap/raw/master/notebooks/wind-global.nc\"\n",
    "    import requests\n",
    "\n",
    "    r = requests.get(url)\n",
    "    wind_data = r.content\n",
    "    with open(\"wind-global.nc\", \"wb\") as f:\n",
    "        f.write(wind_data)"
   ]
  },
  {
   "cell_type": "code",
   "execution_count": null,
   "metadata": {},
   "outputs": [],
   "source": [
    "ds = xr.open_dataset(\"wind-global.nc\")"
   ]
  },
  {
   "cell_type": "code",
   "execution_count": null,
   "metadata": {},
   "outputs": [],
   "source": [
    "display_options = {\n",
    "    \"velocityType\": \"Global Wind\",\n",
    "    \"displayPosition\": \"bottomleft\",\n",
    "    \"displayEmptyString\": \"No wind data\",\n",
    "}\n",
    "wind = Velocity(\n",
    "    data=ds,\n",
    "    zonal_speed=\"u_wind\",\n",
    "    meridional_speed=\"v_wind\",\n",
    "    latitude_dimension=\"lat\",\n",
    "    longitude_dimension=\"lon\",\n",
    "    velocity_scale=0.01,\n",
    "    max_velocity=20,\n",
    "    colormap = linear.viridis,\n",
    "    display_options=display_options\n",
    ")"
   ]
  },
  {
   "cell_type": "code",
   "execution_count": null,
   "metadata": {},
   "outputs": [],
   "source": [
    "colormap_control = ipyleaflet.ColormapControl(\n",
    "    colormap=wind.colormap,\n",
    "    value_min=wind.min_velocity,\n",
    "    value_max=wind.max_velocity,\n",
    "    position='topright',\n",
    "    transparent_bg=False,\n",
    ")\n",
    "m.add(wind)\n",
    "m"
   ]
  },
  {
   "cell_type": "code",
   "execution_count": null,
   "metadata": {},
   "outputs": [],
   "source": []
  }
 ],
 "metadata": {
  "kernelspec": {
   "display_name": "Python 3 (ipykernel)",
   "language": "python",
   "name": "python3"
  },
  "language_info": {
   "codemirror_mode": {
    "name": "ipython",
    "version": 3
   },
   "file_extension": ".py",
   "mimetype": "text/x-python",
   "name": "python",
   "nbconvert_exporter": "python",
   "pygments_lexer": "ipython3",
   "version": "3.9.12"
  }
 },
 "nbformat": 4,
 "nbformat_minor": 4
}
