{
 "cells": [
  {
   "cell_type": "code",
   "execution_count": null,
   "id": "22369c05-6bb4-4072-803b-b074e6a0c8d8",
   "metadata": {},
   "outputs": [],
   "source": [
    "from ipyleaflet import Map, LayersControl, WidgetControl\n",
    "import gallery\n",
    "import ipywidgets as widgets\n",
    "import json\n",
    "access_data = json.load(open(\"access-data.json\"))\n",
    "\n",
    "center = [38.128, 2.588]\n",
    "zoom = 3\n",
    "m =  Map(center=center, zoom=zoom)\n",
    "withoutApikeyList,withApikeyList  = gallery.define_basemapsList()\n",
    "index = 43\n",
    "basemap, apiname = gallery.define_basemap_from_list(withApikeyList , index)\n",
    "\n",
    "keyString = access_data[apiname][\"keyString\"]\n",
    "print(withApikeyList[index])\n",
    "apikey_widget = widgets.Password(\n",
    "    value='',\n",
    "    placeholder='Type something',\n",
    "    description='apikey:',\n",
    "    )\n",
    "display(apikey_widget) "
   ]
  },
  {
   "cell_type": "code",
   "execution_count": null,
   "id": "69b355db-b90a-4535-8122-7f133e853683",
   "metadata": {},
   "outputs": [],
   "source": [
    "basemap[keyString] = apikey_widget.value\n",
    "display(Map(basemap=basemap, center=center, zoom=zoom))"
   ]
  },
  {
   "cell_type": "code",
   "execution_count": null,
   "id": "a3344d9f-4dfc-4a87-8246-f3cecfc324af",
   "metadata": {},
   "outputs": [],
   "source": []
  }
 ],
 "metadata": {
  "kernelspec": {
   "display_name": "Python 3 (ipykernel)",
   "language": "python",
   "name": "python3"
  },
  "language_info": {
   "codemirror_mode": {
    "name": "ipython",
    "version": 3
   },
   "file_extension": ".py",
   "mimetype": "text/x-python",
   "name": "python",
   "nbconvert_exporter": "python",
   "pygments_lexer": "ipython3",
   "version": "3.9.12"
  }
 },
 "nbformat": 4,
 "nbformat_minor": 5
}
