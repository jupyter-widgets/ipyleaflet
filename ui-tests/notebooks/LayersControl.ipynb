{
 "cells": [
  {
   "cell_type": "code",
   "execution_count": null,
   "id": "6f74933e-291c-4696-b824-6b6d0123490d",
   "metadata": {},
   "outputs": [],
   "source": [
    "from ipyleaflet import Map, Marker, LayersControl\n",
    "\n",
    "center = [48.265643898808236, 336.7529296875]\n",
    "\n",
    "m = Map(center=center, zoom=7)\n",
    "\n",
    "marker1 = Marker(name='marker1', location=[48.265643898808236, 337.7529296875])\n",
    "marker2 = Marker(name='marker2', location=[48.265643898808236, 338.7529296875])\n",
    "marker3 = Marker(name='marker3', location=[48.265643898808236, 339.7529296875])\n",
    "m.add(marker1)\n",
    "m.add(marker2)\n",
    "m.add(marker3)\n",
    "\n",
    "control = LayersControl(position='topright')\n",
    "m.add(control)\n",
    "\n",
    "m"
   ]
  }
 ],
 "metadata": {
  "kernelspec": {
   "display_name": "Python 3 (ipykernel)",
   "language": "python",
   "name": "python3"
  },
  "language_info": {
   "codemirror_mode": {
    "name": "ipython",
    "version": 3
   },
   "file_extension": ".py",
   "mimetype": "text/x-python",
   "name": "python",
   "nbconvert_exporter": "python",
   "pygments_lexer": "ipython3",
   "version": "3.10.4"
  },
  "widgets": {
   "application/vnd.jupyter.widget-state+json": {
    "state": {},
    "version_major": 2,
    "version_minor": 0
   }
  }
 },
 "nbformat": 4,
 "nbformat_minor": 5
}
