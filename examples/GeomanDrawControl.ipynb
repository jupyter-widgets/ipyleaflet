{
 "cells": [
  {
   "cell_type": "code",
   "execution_count": 1,
   "metadata": {
    "ExecuteTime": {
     "end_time": "2025-06-09T15:35:39.559258Z",
     "start_time": "2025-06-09T15:35:39.448345Z"
    }
   },
   "outputs": [],
   "source": [
    "from ipyleaflet import (\n",
    "    Map,\n",
    "    Marker,\n",
    "    TileLayer,\n",
    "    ImageOverlay,\n",
    "    Polyline,\n",
    "    Polygon,\n",
    "    Rectangle,\n",
    "    Circle,\n",
    "    CircleMarker,\n",
    "    GeoJSON,\n",
    "    GeomanDrawControl,\n",
    ")\n",
    "\n",
    "from traitlets import link"
   ]
  },
  {
   "cell_type": "code",
   "execution_count": 2,
   "metadata": {
    "ExecuteTime": {
     "end_time": "2025-05-15T18:21:31.116235Z",
     "start_time": "2025-05-15T18:21:31.114028Z"
    }
   },
   "outputs": [],
   "source": [
    "import json\n",
    "\n",
    "with open(\"simple.geo.json\") as f:\n",
    "    data = json.load(f)"
   ]
  },
  {
   "cell_type": "code",
   "execution_count": 3,
   "metadata": {
    "ExecuteTime": {
     "end_time": "2025-05-15T18:21:31.197905Z",
     "start_time": "2025-05-15T18:21:31.195304Z"
    }
   },
   "outputs": [],
   "source": [
    "d1 = data.copy()\n",
    "d2 = data.copy()\n",
    "\n",
    "d1[\"features\"] = d1[\"features\"][:1]\n",
    "d2[\"features\"] = d2[\"features\"][1:]\n"
   ]
  },
  {
   "cell_type": "code",
   "execution_count": 12,
   "metadata": {
    "ExecuteTime": {
     "end_time": "2025-05-15T18:21:36.974937Z",
     "start_time": "2025-05-15T18:21:36.966638Z"
    }
   },
   "outputs": [
    {
     "data": {
      "application/vnd.jupyter.widget-view+json": {
       "model_id": "14649585f32d4174a701bdd9d77a8b6a",
       "version_major": 2,
       "version_minor": 0
      },
      "text/plain": [
       "Map(center=[46.475212657477016, 6.3198722284199675], controls=(ZoomControl(options=['position', 'zoom_in_text'…"
      ]
     },
     "execution_count": 12,
     "metadata": {},
     "output_type": "execute_result"
    }
   ],
   "source": [
    "center = [46.475212657477016, 6.3198722284199675]\n",
    "zoom = 9\n",
    "m = Map(center=center, zoom=zoom, layout=dict(height=\"600px\"))\n",
    "\n",
    "g1 = GeoJSON(data=d1, pm_ignore=True, snap_ignore=True,     \n",
    "            style={\n",
    "        'opacity': 1, 'dashArray': '9', 'fillOpacity': 0.1, 'weight': 1\n",
    "    },\n",
    "           )\n",
    "\n",
    "g2 = GeoJSON(data=d2, pm_ignore=True, snap_ignore=False)\n",
    "m.add(g1)\n",
    "m.add(g2)\n",
    "\n",
    "draw_data = data[\"features\"][1]\n",
    "draw_data[\"properties\"][\"type\"] = \"circlemarker\"\n",
    "dc = GeomanDrawControl(\n",
    "    marker={},\n",
    "    circlemarker={},\n",
    "    polygon={},\n",
    "    data=[draw_data]\n",
    ")\n",
    "\n",
    "def handle_draw(target, action, geo_json):\n",
    "    print(action)\n",
    "    print(geo_json)\n",
    "\n",
    "\n",
    "dc.on_draw(handle_draw)\n",
    "m.add(dc)\n",
    "m"
   ]
  },
  {
   "cell_type": "code",
   "execution_count": 13,
   "metadata": {},
   "outputs": [
    {
     "data": {
      "application/vnd.jupyter.widget-view+json": {
       "model_id": "14649585f32d4174a701bdd9d77a8b6a",
       "version_major": 2,
       "version_minor": 0
      },
      "text/plain": [
       "Map(bottom=46680.0, center=[46.475212657477016, 6.3198722284199675], controls=(ZoomControl(options=['position'…"
      ]
     },
     "execution_count": 13,
     "metadata": {},
     "output_type": "execute_result"
    }
   ],
   "source": [
    "# Modifying draw options will update the toolbar\n",
    "dc.marker={\"markerStyle\": {\"color\": \"#FF0000\"}}\n",
    "dc.rectangle={\"pathOptions\": {\"color\": \"#FF0000\"}}\n",
    "dc.circlemarker={\"pathOptions\": {\"color\": \"#FF0000\"}}\n",
    "m"
   ]
  },
  {
   "cell_type": "code",
   "execution_count": null,
   "metadata": {},
   "outputs": [],
   "source": []
  }
 ],
 "metadata": {
  "kernelspec": {
   "display_name": "Python 3 (ipykernel)",
   "language": "python",
   "name": "python3"
  },
  "language_info": {
   "codemirror_mode": {
    "name": "ipython",
    "version": 3
   },
   "file_extension": ".py",
   "mimetype": "text/x-python",
   "name": "python",
   "nbconvert_exporter": "python",
   "pygments_lexer": "ipython3",
   "version": "3.11.12"
  }
 },
 "nbformat": 4,
 "nbformat_minor": 4
}
