{
 "cells": [
  {
   "cell_type": "code",
   "execution_count": null,
   "id": "202a6acf-96fc-4632-bcd3-7e7156cbec51",
   "metadata": {},
   "outputs": [],
   "source": [
    "# TEST ON THE MAP ALONE\n",
    "from localtileserver import examples, get_leaflet_tile_layer, TileClient\n",
    "from ipyleaflet import Map\n",
    "\n",
    "# Create a tile server from an raster URL\n",
    "oam = TileClient('https://oin-hotosm.s3.amazonaws.com/59c66c5223c8440011d7b1e4/0/7ad397c0-bba2-4f98-a08a-931ec3a6e943.tif')\n",
    "\n",
    "# Create ipyleaflet map, add layers, add controls, and display\n",
    "m1 = Map(center=oam.center(),zoom=18)\n",
    "m1"
   ]
  },
  {
   "cell_type": "code",
   "execution_count": null,
   "id": "3d28ceb8-50ea-457e-896b-672870ea9573",
   "metadata": {},
   "outputs": [],
   "source": [
    "from localtileserver import examples, get_leaflet_tile_layer, TileClient\n",
    "from ipyleaflet import Map\n",
    "\n",
    "# Create a tile server from an raster URL\n",
    "oam = TileClient('https://oin-hotosm.s3.amazonaws.com/59c66c5223c8440011d7b1e4/0/7ad397c0-bba2-4f98-a08a-931ec3a6e943.tif')\n",
    "\n",
    "# Create ipyleaflet TileLayer from that server\n",
    "# Please note that all extra kwargs are passed to `TileLayer`\n",
    "oam_layer = get_leaflet_tile_layer(oam, max_zoom=30, max_native_zoom=30, show_loading=True)\n",
    "\n",
    "# Create ipyleaflet map, add layers, add controls, and display\n",
    "m = Map(center=oam.center(), zoom=18)\n",
    "m.add(oam_layer)\n",
    "m"
   ]
  }
 ],
 "metadata": {
  "kernelspec": {
   "display_name": "Python 3 (ipykernel)",
   "language": "python",
   "name": "python3"
  },
  "language_info": {
   "codemirror_mode": {
    "name": "ipython",
    "version": 3
   },
   "file_extension": ".py",
   "mimetype": "text/x-python",
   "name": "python",
   "nbconvert_exporter": "python",
   "pygments_lexer": "ipython3",
   "version": "3.9.12"
  }
 },
 "nbformat": 4,
 "nbformat_minor": 5
}
