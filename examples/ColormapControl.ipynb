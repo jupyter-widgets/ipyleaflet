{
 "cells": [
  {
   "cell_type": "code",
   "execution_count": null,
   "id": "2389fdf7-cd4d-4002-bbcb-dbf6251b5f37",
   "metadata": {},
   "outputs": [],
   "source": [
    "import ipyleaflet\n",
    "from ipyleaflet import Map, ColormapControl, WidgetControl\n",
    "import json\n",
    "import pandas as pd\n",
    "from branca.colormap import linear\n",
    "\n",
    "colormap_choice = linear.YlOrRd_04\n",
    "geo_json_data = json.load(open(\"us-states.json\"))\n",
    "m = ipyleaflet.Map(center=(43, -100), zoom=3)\n",
    "unemployment = pd.read_csv(\"US_Unemployment_Oct2012.csv\")\n",
    "data_unemployment = dict(\n",
    "    zip(unemployment[\"State\"].tolist(), unemployment[\"Unemployment\"].tolist())\n",
    ")\n",
    "\n",
    "layer = ipyleaflet.Choropleth(\n",
    "    geo_data=geo_json_data,\n",
    "    choro_data=data_unemployment,\n",
    "    colormap=colormap_choice,\n",
    "    style={\"dashArray\": \"5, 5\"}\n",
    ")"
   ]
  },
  {
   "cell_type": "code",
   "execution_count": null,
   "id": "3a11c9ea-72d0-467b-af56-4a792b0e7ade",
   "metadata": {},
   "outputs": [],
   "source": [
    "m.add_layer(layer)\n",
    "myColormapControl = ColormapControl(\n",
    "    caption=\"Unemployment rate\",\n",
    "    colormap_choice=linear.YlOrRd_04,\n",
    "    value_min=layer.value_min,\n",
    "    value_max=layer.value_max,\n",
    "    position='topright',\n",
    "    transparent_bg=True\n",
    ")\n",
    "m.add_control(myColormapControl)\n",
    "m"
   ]
  }
 ],
 "metadata": {
  "kernelspec": {
   "display_name": "Python 3 (ipykernel)",
   "language": "python",
   "name": "python3"
  },
  "language_info": {
   "codemirror_mode": {
    "name": "ipython",
    "version": 3
   },
   "file_extension": ".py",
   "mimetype": "text/x-python",
   "name": "python",
   "nbconvert_exporter": "python",
   "pygments_lexer": "ipython3",
   "version": "3.9.12"
  }
 },
 "nbformat": 4,
 "nbformat_minor": 5
}
