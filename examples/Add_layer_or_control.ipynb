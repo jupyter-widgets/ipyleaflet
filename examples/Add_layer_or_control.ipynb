{
 "cells": [
  {
   "cell_type": "code",
   "execution_count": 1,
   "id": "2a6b21b2-417a-4d34-b5f4-f5ea38adc1b7",
   "metadata": {},
   "outputs": [],
   "source": [
    "import ipyleaflet\n",
    "from ipyleaflet import Map,WidgetControl\n",
    "from ipywidgets import Output\n",
    "import json\n",
    "import pandas as pd\n",
    "from branca.colormap import linear\n",
    "from ipyleaflet import LegendControl\n",
    "\n",
    "colormap_choice = linear.YlOrRd_04\n",
    "geo_json_data = json.load(open(\"us-states.json\"))\n",
    "m = ipyleaflet.Map(center=(43, -100), zoom=3)\n",
    "unemployment = pd.read_csv(\"US_Unemployment_Oct2012.csv\")\n",
    "data_unemployment = dict(\n",
    "    zip(unemployment[\"State\"].tolist(), unemployment[\"Unemployment\"].tolist())\n",
    ")\n",
    "\n",
    "layer = ipyleaflet.Choropleth(\n",
    "    geo_data=geo_json_data,\n",
    "    choro_data=data_unemployment,\n",
    "    colormap=colormap_choice,\n",
    "    style={\"dashArray\": \"5, 5\"}\n",
    ")"
   ]
  },
  {
   "cell_type": "code",
   "execution_count": 2,
   "id": "cce8a36c-972a-4756-9cca-3aed74af1b08",
   "metadata": {},
   "outputs": [
    {
     "data": {
      "application/vnd.jupyter.widget-view+json": {
       "model_id": "553d29b47c6742c0848f26c473420f48",
       "version_major": 2,
       "version_minor": 0
      },
      "text/plain": [
       "Map(center=[43, -100], controls=(ZoomControl(options=['position', 'zoom_in_text', 'zoom_in_title', 'zoom_out_t…"
      ]
     },
     "metadata": {},
     "output_type": "display_data"
    }
   ],
   "source": [
    "legend = LegendControl(\n",
    "    {\"low\": \"yellow\", \"medium\": \"orange\", \"High\": \"red\"},\n",
    "    name=\"Legend\",\n",
    "    position=\"topright\",\n",
    ")\n",
    "m.add(layer)"
   ]
  },
  {
   "cell_type": "code",
   "execution_count": 3,
   "id": "c6982c29-bed7-4318-8418-d63a30adda15",
   "metadata": {},
   "outputs": [
    {
     "name": "stderr",
     "output_type": "stream",
     "text": [
      "/home/florence/ipyleaflet/ipyleaflet/leaflet.py:2286: PendingDeprecationWarning: add_control will be deprecated in future version, use add instead\n",
      "  warnings.warn(\n"
     ]
    },
    {
     "data": {
      "application/vnd.jupyter.widget-view+json": {
       "model_id": "553d29b47c6742c0848f26c473420f48",
       "version_major": 2,
       "version_minor": 0
      },
      "text/plain": [
       "Map(bottom=953.0, center=[43, -100], controls=(ZoomControl(options=['position', 'zoom_in_text', 'zoom_in_title…"
      ]
     },
     "metadata": {},
     "output_type": "display_data"
    }
   ],
   "source": [
    "m.add(legend)"
   ]
  },
  {
   "cell_type": "code",
   "execution_count": 4,
   "id": "c1b73b80-7fbb-4a65-91c9-4b8fe200a765",
   "metadata": {},
   "outputs": [
    {
     "name": "stderr",
     "output_type": "stream",
     "text": [
      "/home/florence/ipyleaflet/ipyleaflet/leaflet.py:2234: PendingDeprecationWarning: remove_layer will be deprecated in future version, use remove instead\n",
      "  warnings.warn(\n"
     ]
    }
   ],
   "source": [
    "m-=layer"
   ]
  },
  {
   "cell_type": "code",
   "execution_count": 5,
   "id": "0b0433fa-8b06-472d-b31a-f073744a6737",
   "metadata": {},
   "outputs": [
    {
     "name": "stderr",
     "output_type": "stream",
     "text": [
      "/home/florence/ipyleaflet/ipyleaflet/leaflet.py:2215: PendingDeprecationWarning: add_layer will be deprecated in future version, use add instead\n",
      "  warnings.warn(\n"
     ]
    }
   ],
   "source": [
    "m+=layer"
   ]
  },
  {
   "cell_type": "code",
   "execution_count": 6,
   "id": "5a96b25c-2b9b-4f87-89d0-6d742f0a1e80",
   "metadata": {},
   "outputs": [
    {
     "name": "stderr",
     "output_type": "stream",
     "text": [
      "/home/florence/ipyleaflet/ipyleaflet/leaflet.py:2303: PendingDeprecationWarning: remove_control will be deprecated in future version, use remove instead\n",
      "  warnings.warn(\n"
     ]
    }
   ],
   "source": [
    "m-=legend"
   ]
  },
  {
   "cell_type": "code",
   "execution_count": 7,
   "id": "105dec8c-6d1c-455a-90cb-0caee842aba1",
   "metadata": {},
   "outputs": [
    {
     "name": "stderr",
     "output_type": "stream",
     "text": [
      "/home/florence/ipyleaflet/ipyleaflet/leaflet.py:2286: PendingDeprecationWarning: add_control will be deprecated in future version, use add instead\n",
      "  warnings.warn(\n"
     ]
    }
   ],
   "source": [
    "m.add_control(legend)"
   ]
  },
  {
   "cell_type": "code",
   "execution_count": null,
   "id": "5a0f91f7-2cbe-4933-af3f-a32dbdb73071",
   "metadata": {},
   "outputs": [],
   "source": []
  },
  {
   "cell_type": "code",
   "execution_count": null,
   "id": "6e32031f-925f-400e-abfc-d00f9137c4dc",
   "metadata": {},
   "outputs": [],
   "source": []
  }
 ],
 "metadata": {
  "kernelspec": {
   "display_name": "Python 3 (ipykernel)",
   "language": "python",
   "name": "python3"
  },
  "language_info": {
   "codemirror_mode": {
    "name": "ipython",
    "version": 3
   },
   "file_extension": ".py",
   "mimetype": "text/x-python",
   "name": "python",
   "nbconvert_exporter": "python",
   "pygments_lexer": "ipython3",
   "version": "3.9.12"
  }
 },
 "nbformat": 4,
 "nbformat_minor": 5
}
