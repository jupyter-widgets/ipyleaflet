{
 "cells": [
  {
   "cell_type": "code",
   "execution_count": 1,
   "id": "7739aba6",
   "metadata": {},
   "outputs": [
    {
     "data": {
      "application/vnd.jupyter.widget-view+json": {
       "model_id": "ba862bc2bba44381859faaf4eb624d99",
       "version_major": 2,
       "version_minor": 0
      },
      "text/plain": [
       "Map(center=[38.128, 2.588], controls=(ZoomControl(options=['position', 'zoom_in_text', 'zoom_in_title', 'zoom_…"
      ]
     },
     "metadata": {},
     "output_type": "display_data"
    }
   ],
   "source": [
    "from ipyleaflet import Map, basemap_to_tiles, WidgetControl\n",
    "import gallery\n",
    "import ipywidgets as widgets\n",
    "center = [38.128, 2.588]\n",
    "zoom = 3\n",
    "m =  Map(center=center, zoom=zoom)\n",
    "layersWithoutApikey = gallery.define_basemapsDict()\n",
    "\n",
    "\n",
    "layer_selector = widgets.Dropdown(\n",
    "    options=layersWithoutApikey,\n",
    "    description='Layer :'\n",
    ")\n",
    "widgets.link((layer_selector,'value'),(m,'layers'))\n",
    "\n",
    "layer_selector_control = WidgetControl(widget=layer_selector, position='topright')\n",
    "\n",
    "m.add_control(layer_selector_control)\n",
    "m"
   ]
  },
  {
   "cell_type": "code",
   "execution_count": null,
   "id": "ba69e289-68ef-47e1-8afa-76ac0ee3bf49",
   "metadata": {},
   "outputs": [],
   "source": []
  }
 ],
 "metadata": {
  "kernelspec": {
   "display_name": "Python 3 (ipykernel)",
   "language": "python",
   "name": "python3"
  },
  "language_info": {
   "codemirror_mode": {
    "name": "ipython",
    "version": 3
   },
   "file_extension": ".py",
   "mimetype": "text/x-python",
   "name": "python",
   "nbconvert_exporter": "python",
   "pygments_lexer": "ipython3",
   "version": "3.9.12"
  }
 },
 "nbformat": 4,
 "nbformat_minor": 5
}
