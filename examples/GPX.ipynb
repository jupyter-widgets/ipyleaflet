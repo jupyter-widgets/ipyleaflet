{
 "cells": [
  {
   "cell_type": "markdown",
   "metadata": {},
   "source": [
    "You will need to install the below packages:\n",
    "- `ipyleaflet`\n",
    "- `geopandas`"
   ]
  },
  {
   "cell_type": "code",
   "execution_count": null,
   "metadata": {},
   "outputs": [],
   "source": [
    "from ipyleaflet import Map, GeoData\n",
    "import geopandas as gpd\n",
    "import fiona"
   ]
  },
  {
   "cell_type": "code",
   "execution_count": null,
   "metadata": {},
   "outputs": [],
   "source": [
    "# Visualize GPX data\n",
    "\n",
    "m = Map(center=[46.57608333, 8.89241667], zoom=17)\n",
    "\n",
    "path = \"data/example.gpx\"\n",
    "layers = fiona.listlayers(path)\n",
    "for layer in layers:\n",
    "    gdf = gpd.read_file(path, driver=\"GPX\", layer=layer)\n",
    "    if gdf.empty:\n",
    "        continue\n",
    "    geo_data = GeoData(\n",
    "        geo_dataframe=gdf,\n",
    "        style={\n",
    "            \"color\": \"black\",\n",
    "            \"fillColor\": \"#3366cc\",\n",
    "            \"opacity\": 0.05,\n",
    "            \"weight\": 1.9,\n",
    "            \"fillOpacity\": 0.6,\n",
    "        },\n",
    "        hover_style={\"fillColor\": \"red\", \"fillOpacity\": 0.2},\n",
    "    )\n",
    "    m.add_layer(geo_data)\n",
    "\n",
    "m"
   ]
  }
 ],
 "metadata": {
  "kernelspec": {
   "display_name": "Python 3",
   "language": "python",
   "name": "python3"
  },
  "language_info": {
   "codemirror_mode": {
    "name": "ipython",
    "version": 3
   },
   "file_extension": ".py",
   "mimetype": "text/x-python",
   "name": "python",
   "nbconvert_exporter": "python",
   "pygments_lexer": "ipython3",
   "version": "3.7.6"
  }
 },
 "nbformat": 4,
 "nbformat_minor": 4
}
