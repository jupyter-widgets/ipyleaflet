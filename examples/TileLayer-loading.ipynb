{
 "cells": [
  {
   "cell_type": "code",
   "execution_count": null,
   "metadata": {},
   "outputs": [],
   "source": [
    "from ipyleaflet import *\n",
    "from ipywidgets import *\n",
    "\n",
    "m = Map(center=(52, 10), zoom=8)\n",
    "\n",
    "tl = TileLayer(url=\"https://{s}.tile.opentopomap.org/{z}/{x}/{y}.png\")\n",
    "m.add(tl)\n",
    "\n",
    "label = Label(value=\"Not Loading\")\n",
    "\n",
    "\n",
    "def on_load_change(change):\n",
    "    loading = change[\"new\"]\n",
    "    label.value = str(\"Loading...\" if loading else \"Not Loading\")\n",
    "\n",
    "\n",
    "tl.observe(on_load_change, \"loading\")\n",
    "\n",
    "display(m)\n",
    "display(label)\n",
    "\n",
    "# move the map, zoom out or zoom in to see the Label change from 'Loading...' to 'Not Loading'"
   ]
  },
  {
   "cell_type": "code",
   "execution_count": null,
   "metadata": {},
   "outputs": [],
   "source": []
  }
 ],
 "metadata": {
  "kernelspec": {
   "display_name": "Python 3 (ipykernel)",
   "language": "python",
   "name": "python3"
  },
  "language_info": {
   "codemirror_mode": {
    "name": "ipython",
    "version": 3
   },
   "file_extension": ".py",
   "mimetype": "text/x-python",
   "name": "python",
   "nbconvert_exporter": "python",
   "pygments_lexer": "ipython3",
   "version": "3.10.5"
  }
 },
 "nbformat": 4,
 "nbformat_minor": 4
}
